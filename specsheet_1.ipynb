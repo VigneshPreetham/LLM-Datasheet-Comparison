{
 "cells": [
  {
   "cell_type": "code",
   "execution_count": 1,
   "id": "b3120496-0722-4aed-a3e3-dc596b2d3608",
   "metadata": {
    "execution": {
     "iopub.execute_input": "2024-05-28T21:36:11.537284Z",
     "iopub.status.busy": "2024-05-28T21:36:11.537284Z",
     "iopub.status.idle": "2024-05-28T21:36:23.447508Z",
     "shell.execute_reply": "2024-05-28T21:36:23.447508Z",
     "shell.execute_reply.started": "2024-05-28T21:36:11.537284Z"
    }
   },
   "outputs": [],
   "source": [
    "from langchain.document_loaders import PyPDFLoader\n",
    "from langchain.document_loaders import TextLoader\n",
    "from langchain.document_loaders import TextLoader\n",
    "from langchain.text_splitter import CharacterTextSplitter\n",
    "from langchain.embeddings import HuggingFaceEmbeddings\n",
    "from langchain.vectorstores import Chroma\n",
    "from huggingface_hub import notebook_login\n",
    "import torch\n",
    "import transformers\n",
    "from transformers import AutoTokenizer, AutoModelForCausalLM\n",
    "from transformers import pipeline\n",
    "from langchain import HuggingFacePipeline\n",
    "from langchain.chains import ConversationalRetrievalChain\n",
    "from langchain.memory import ConversationBufferMemory\n",
    "import os\n",
    "import sys"
   ]
  },
  {
   "cell_type": "code",
   "execution_count": 2,
   "id": "6a484387-f96a-4040-a6e1-794ce2dc448b",
   "metadata": {
    "execution": {
     "iopub.execute_input": "2024-05-28T21:36:23.449511Z",
     "iopub.status.busy": "2024-05-28T21:36:23.449511Z",
     "iopub.status.idle": "2024-05-28T21:36:23.455223Z",
     "shell.execute_reply": "2024-05-28T21:36:23.455223Z",
     "shell.execute_reply.started": "2024-05-28T21:36:23.449511Z"
    }
   },
   "outputs": [
    {
     "data": {
      "text/plain": [
       "True"
      ]
     },
     "execution_count": 2,
     "metadata": {},
     "output_type": "execute_result"
    }
   ],
   "source": [
    "torch.cuda.is_available()"
   ]
  },
  {
   "cell_type": "code",
   "execution_count": 3,
   "id": "0b34c5b4-6b8b-4423-893a-3a7ecab3ab8e",
   "metadata": {
    "execution": {
     "iopub.execute_input": "2024-05-28T21:36:25.340190Z",
     "iopub.status.busy": "2024-05-28T21:36:25.339189Z",
     "iopub.status.idle": "2024-05-28T21:36:25.675608Z",
     "shell.execute_reply": "2024-05-28T21:36:25.675608Z",
     "shell.execute_reply.started": "2024-05-28T21:36:25.340190Z"
    }
   },
   "outputs": [
    {
     "name": "stdout",
     "output_type": "stream",
     "text": [
      "ip11pmaxspecs.pdf\n",
      "iphone13pm.pdf\n",
      "iphoneSEspecs.pdf\n"
     ]
    }
   ],
   "source": [
    "#now we load in the pdfs\n",
    "document = []\n",
    "for file in os.listdir(\"docs\"):\n",
    "    print(file)\n",
    "    if file.endswith(\".pdf\"):\n",
    "        pdf_path = \".\\\\docs\\\\\"+file\n",
    "        loader = PyPDFLoader(pdf_path)\n",
    "        document.extend(loader.load())\n"
   ]
  },
  {
   "cell_type": "code",
   "execution_count": 4,
   "id": "17693a67-b010-4b28-bb2e-9cb262c3b362",
   "metadata": {
    "execution": {
     "iopub.execute_input": "2024-05-28T21:36:26.302212Z",
     "iopub.status.busy": "2024-05-28T21:36:26.302212Z",
     "iopub.status.idle": "2024-05-28T21:36:26.307426Z",
     "shell.execute_reply": "2024-05-28T21:36:26.307426Z",
     "shell.execute_reply.started": "2024-05-28T21:36:26.302212Z"
    },
    "scrolled": true
   },
   "outputs": [
    {
     "name": "stdout",
     "output_type": "stream",
     "text": [
      "[Document(page_content='IPhone  11 Pro Max Specifications  \\nNETWORK  Technology  GSM  / CDMA  / HSPA  / EVDO  / LTE    \\nLAUNCH  Announced  2019, September  \\nStatus  Coming soon. Exp. release 2019, September  \\nBODY  Dimensions  158 x 77.8 x 8.1 mm (6.22 x 3.06 x 0.32 in)  \\nWeight  226 g (7.97 oz)  \\nBuild  Front/back glass, stainless steel frame  \\nSIM  Single SIM (Nano -SIM and/or Electronic SIM card) or Dual SIM (Nano -SIM, dual \\nstand -by) - for China  \\n  IP68 dust/water resistant (up to 4m for 30 mins)  \\nApple Pay (Visa, MasterCard, AMEX certified)  \\nDISPLAY  Type  Super Retina XDR OLED capacitive touchscreen, 16M colors  \\nSize  6.5 inches, 102.9 cm2 (~83.7% screen -to-body ratio)  \\nResolution  1242 x 2688 pixels, 19.5:9 ratio (~458 ppi density)  \\nProtection  Scratch -resistant glass, oleophobic coating  \\n  800 nits  \\nDolby Vision \\nHDR10  \\nWide color gamut  \\nTrue-tone \\n120 Hz touch -sensing  \\nPLATFORM  OS  iOS 13  \\nChipset  Apple A13 Bionic (7 nm+)  \\nMEMORY  Card  slot  No \\nInternal  64GB 6GB RAM, 256GB 6GB RAM, 512GB 6GB RAM  \\nMAIN \\nCAMERA  Triple  12 MP, f/1.8, 26mm (wide), 1/2.55\", 1.4µm, PDAF, OIS  \\n12 MP, f/2.0, 52mm (telephoto), 1/3.4\", 1.0µm, PDAF, OIS, 2x optical zoom  \\n12 MP, f/2.4, 13mm (ultrawide)  \\nFeatures  Quad -LED dual -tone flash, HDR (photo/panorama)  \\nVideo  2160p@24/30/60fps, 1080p@30/60/120/240fps, HDR, stereo sound rec.  \\nSELFIE \\nCAMERA  Dual  12 MP, f/2.2  \\nTOF 3D camera  \\nFeatures  HDR  \\nVideo  2160p@24/30/60fps, 1080p@30/60/120fps, gyro -EIS \\nSOUND  Loudspeaker  Yes, with stereo speakers  \\n3.5mm  jack  No \\n  Active noise cancellation with dedicated mic  \\nDolby Atmos \\nDolby Digital Plus  \\nCOMMS  WLAN  Wi-Fi 802.11 a/b/g/n/ac/ax, dual -band, hotspot  \\nBluetooth  5.0, A2DP, LE  \\nGPS  Yes, with A -GPS, GLONASS, GALILEO, QZSS  ', metadata={'source': '.\\\\docs\\\\ip11pmaxspecs.pdf', 'page': 0}), Document(page_content='IPhone  11 Pro Max Specifications  \\nNFC  Yes \\nRadio  No \\nUSB  2.0, proprietary reversible connector  \\nFEATURES  Sensors  Face ID, accelerometer, gyro, proximity, compass, barometer  \\n  Siri natural language commands and dictation  \\nBATTERY    Non-removable Li -Ion 3500 mAh battery  \\nCharging  Fast battery charging 18W: 50% in 30 min  \\nUSB Power Delivery 2.0  \\nQi wireless charging  \\nTalk time  Up to 20 h (multimedia)  \\nMusic  play  Up to 80 h  \\nMISC  Colors  Space Gray, Silver, Gold, Midnight Green  \\nModels  A2218, A2161, A2220  \\nPrice  About 1250 EUR  \\n ', metadata={'source': '.\\\\docs\\\\ip11pmaxspecs.pdf', 'page': 1}), Document(page_content='iPhone 13 Pro  Max  Specifications  \\nNETWORK  Technology  GSM  / CDMA  / HSPA  / EVDO  / LTE / 5G    \\nLAUNCH  Announced  2021, September 14  \\nStatus  Release 2021, September 24  \\nBODY  Dimensions  160.8 x 78.1 x 7.7 mm (6.33 x 3.07 x 0.30 in)  \\nWeight  240 g (8.47 oz)  \\nBuild  Glass front (Gorilla Glass), glass back (Gorilla Glass), stainless steel frame  \\nSIM  Single SIM (Nano -SIM and/or eSIM) or Dual SIM (Nano -SIM/eSIM, dual stand -by) \\n  IP68 dust/water resistant (up to 6m for 30 mins)  \\nApple Pay (Visa, MasterCard, AMEX certified)  \\nDISPLAY  Type  Super Retina XDR OLED, 120Hz, HDR10, Dolby Vision, 1000 nits (typ), 1200 nits \\n(peak)  \\nSize  6.7 inches, 109.8 cm2 (~87.4% screen -to-body ratio)  \\nResolution  1284 x 2778 pixels, 19.5:9 ratio (~458 ppi density)  \\nProtection  Scratch -resistant ceramic glass, oleophobic coating  \\n  Wide color gamut  \\nTrue-tone \\nPLATFORM  OS  iOS 15  \\nChipset  Apple A15 Bionic (5 nm)  \\nCPU  Hexa -core (2x3.22 GHz + 4xX.X GHz)  \\nGPU  Apple GPU (5 -core graphics)  \\nMEMORY  Card  slot  No \\nInternal  128GB 6GB RAM, 256GB 6GB RAM, 512GB 6GB RAM, 1TB  \\n  NVMe  \\nMAIN \\nCAMERA  Quad  12 MP, f/1.5, 26mm (wide), 1.9µm, dual pixel PDAF, sensor -shift OIS  \\n12 MP, f/2.8, 77mm (telephoto), PDAF, OIS, 3x optical zoom  \\n12 MP, f/1.8, 13mm, 120˚ (ultrawide), PDAF  \\nTOF 3D LiDAR scanner (depth)  \\nFeatures  Dual-LED dual -tone flash, HDR (photo/panorama)  \\nVideo  4K@24/30/60fps, 1080p@30/60/120/240fps, 10 -bit HDR, Dolby Vision HDR (up \\nto 60fps), ProRes, Cinematic mode, stereo sound rec.  \\nSELFIE \\nCAMERA  Dual  12 MP, f/2.2, 23mm (wide), 1/3.6\"  \\nSL 3D, (depth/biometrics sensor)  \\nFeatures  HDR  \\nVideo  4K@24/25/30/60fps, 1080p@30/60/120fps, gyro -EIS \\nSOUND  Loudspeaker  Yes, with stereo speakers  \\n3.5mm  jack  No \\nCOMMS  WLAN  Wi-Fi 802.11 a/b/g/n/ac/6, dual -band, hotspot  \\nBluetooth  5.0, A2DP, LE  \\nGPS  Yes, with A -GPS, GLONASS, GALILEO, BDS, QZSS  \\nNFC  Yes \\nRadio  No \\nUSB  Lightning, USB 2.0  \\nSensors  Face ID, accelerometer, gyro, proximity, compass, barometer  ', metadata={'source': '.\\\\docs\\\\iphone13pm.pdf', 'page': 0}), Document(page_content='iPhone 13 Pro  Max  Specifications  \\nFEATURES    Siri natural language commands and dictation  \\nUltra Wideband (UWB) support  \\nBATTERY  Type  Li-Ion 4373 mAh, non -removable (16.75 Wh)  \\nCharging  Fast charging 20W, 50% in 30 min (advertised)  \\nUSB Power Delivery 2.0  \\nMagSafe wireless charging 15W  \\nQi magnetic fast wireless charging 7.5W  \\nStand -by  Up to 28 h (multimedia)  \\nMusic  play  Up to 95 h  \\nMISC  Colors  Graphite, Gold, Silver, Sierra Blue  \\nModels  A2643, A2484, A2641, A2644, A2645  \\nPrice  $\\u20091,099.00  / £\\u20091,049.00  / €\\u20091,249.00  \\n ', metadata={'source': '.\\\\docs\\\\iphone13pm.pdf', 'page': 1}), Document(page_content='iPhone SE Specifications  \\nNETWORK  Technology  GSM  / CDMA  / HSPA  / EVDO  / LTE    \\nLAUNCH  Announced  2020, April 15  \\nStatus  Coming soon. Exp. release 2020, April 24  \\nBODY  Dimensions  138.4 x 67.3 x 7.3 mm (5.45 x 2.65 x 0.29 in)  \\nWeight  148 g (5.22 oz)  \\nBuild  Glass front, glass back, aluminum frame  \\nSIM  Nano -SIM and/or eSIM  \\n  IP67 dust/water resistant (up to 1m for 30 mins)  \\nApple Pay (Visa, MasterCard, AMEX certified)  \\nDISPLAY  Type  Retina IPS LCD capacitive touchscreen, 16M colors  \\nSize  4.7 inches, 60.9 cm2 (~65.4% screen -to-body ratio)  \\nResolution  750 x 1334 pixels, 16:9 ratio (~326 ppi  density)  \\nProtection  Ion-strengthened glass, oleophobic coating  \\n  Wide color gamut  \\nTrue- tone \\n625 nits max brightness (advertised)  \\nPLATFORM  OS  iOS 13  \\nChipset  Apple A13 Bionic (7 nm+)  \\nCPU  Hexa -core (2x2.65 GHz Lightning + 4x1.8 GHz Thunder)  \\nGPU  Apple GPU (4 -core graphics)  \\nMEMORY  Card  slot  No \\nInternal  64GB 3GB RAM, 128GB 3GB RAM, 256GB 3GB RAM  \\n  NVMe  \\nMAIN \\nCAMERA  Single  12 MP, f/1.8 (wide), PDAF, OIS  \\nFeatures  Dual-LED dual -tone flash, HDR  \\nVideo  2160p@24/30/60fps, 1080p@30/60/120/240fps, HDR, OIS, stereo sound rec.  \\nSELFIE \\nCAMERA  Single  7 MP, f/2.2  \\nFeatures  Face detection, HDR, panorama  \\nVideo  1080p@30fps; gyro -EIS \\nSOUND  Loudspeaker  Yes, with stereo speakers  \\n3.5mm  jack  No \\nCOMMS  WLAN  Wi-Fi 802.11 a/b/g/n/ac/ax, dual -band, hotspot  \\nBluetooth  5.0, A2DP, LE  \\nGPS  Yes, with A -GPS, GLONASS  \\nNFC  Yes \\nRadio  No \\nUSB  2.0, proprietary reversible connector  \\nFEATURES  Sensors  Fingerprint (front -mounted), accelerometer, proximity, gyro, compass, \\nbarometer  ', metadata={'source': '.\\\\docs\\\\iphoneSEspecs.pdf', 'page': 0}), Document(page_content='iPhone SE Specifications  \\n  Siri natural language commands and dictation  \\nBATTERY    Non-removable Li -Ion 1821 mAh  battery (6.96 Wh)  \\nCharging  Fast charging 18W, 50% in 30 min (advertised)  \\nQi wireless charging  \\nMISC  Colors  Black, White, Red  \\nModels  A2275, A2296, A2298  \\nPrice  $\\u2009121.00  / £\\u2009419.00  / €\\u2009479.00  \\n ', metadata={'source': '.\\\\docs\\\\iphoneSEspecs.pdf', 'page': 1})]\n"
     ]
    }
   ],
   "source": [
    "print(document)"
   ]
  },
  {
   "cell_type": "code",
   "execution_count": 5,
   "id": "3919ef56-ee45-456e-8548-ac4c2e3b33fa",
   "metadata": {
    "execution": {
     "iopub.execute_input": "2024-05-28T21:36:27.539673Z",
     "iopub.status.busy": "2024-05-28T21:36:27.539673Z",
     "iopub.status.idle": "2024-05-28T21:36:27.543731Z",
     "shell.execute_reply": "2024-05-28T21:36:27.543731Z",
     "shell.execute_reply.started": "2024-05-28T21:36:27.539673Z"
    }
   },
   "outputs": [
    {
     "data": {
      "text/plain": [
       "6"
      ]
     },
     "execution_count": 5,
     "metadata": {},
     "output_type": "execute_result"
    }
   ],
   "source": [
    "document_splitta=CharacterTextSplitter(chunk_size=500, chunk_overlap=0)\n",
    "document_chunks=document_splitta.split_documents(document)\n",
    "len(document_chunks)"
   ]
  },
  {
   "cell_type": "code",
   "execution_count": 6,
   "id": "b2463208-e63c-427d-a422-3d2c6770ac9f",
   "metadata": {
    "execution": {
     "iopub.execute_input": "2024-05-28T21:36:28.184616Z",
     "iopub.status.busy": "2024-05-28T21:36:28.183616Z",
     "iopub.status.idle": "2024-05-28T21:36:30.353027Z",
     "shell.execute_reply": "2024-05-28T21:36:30.353027Z",
     "shell.execute_reply.started": "2024-05-28T21:36:28.184616Z"
    }
   },
   "outputs": [
    {
     "name": "stderr",
     "output_type": "stream",
     "text": [
      "C:\\Users\\Preetham\\Desktop\\SpecSheet\\spec_env\\Lib\\site-packages\\huggingface_hub\\file_download.py:1132: FutureWarning: `resume_download` is deprecated and will be removed in version 1.0.0. Downloads always resume when possible. If you want to force a new download, use `force_download=True`.\n",
      "  warnings.warn(\n"
     ]
    }
   ],
   "source": [
    "embeddings = HuggingFaceEmbeddings(model_name='sentence-transformers/all-MiniLM-L6-v2')"
   ]
  },
  {
   "cell_type": "code",
   "execution_count": 7,
   "id": "440699cc-1b67-4366-a26f-275c5c71ebac",
   "metadata": {
    "execution": {
     "iopub.execute_input": "2024-05-28T21:36:30.353027Z",
     "iopub.status.busy": "2024-05-28T21:36:30.353027Z",
     "iopub.status.idle": "2024-05-28T21:36:32.841377Z",
     "shell.execute_reply": "2024-05-28T21:36:32.841377Z",
     "shell.execute_reply.started": "2024-05-28T21:36:30.353027Z"
    }
   },
   "outputs": [],
   "source": [
    "vectordb = Chroma.from_documents(document_chunks, embedding=embeddings, persist_directory='.\\\\data')"
   ]
  },
  {
   "cell_type": "code",
   "execution_count": 8,
   "id": "f7e71ed9-a8ef-43b3-926f-9424004621a7",
   "metadata": {
    "execution": {
     "iopub.execute_input": "2024-05-28T21:36:34.412833Z",
     "iopub.status.busy": "2024-05-28T21:36:34.412833Z",
     "iopub.status.idle": "2024-05-28T21:36:34.524591Z",
     "shell.execute_reply": "2024-05-28T21:36:34.524591Z",
     "shell.execute_reply.started": "2024-05-28T21:36:34.412833Z"
    }
   },
   "outputs": [
    {
     "name": "stderr",
     "output_type": "stream",
     "text": [
      "C:\\Users\\Preetham\\Desktop\\SpecSheet\\spec_env\\Lib\\site-packages\\langchain_core\\_api\\deprecation.py:119: LangChainDeprecationWarning: Since Chroma 0.4.x the manual persistence method is no longer supported as docs are automatically persisted.\n",
      "  warn_deprecated(\n"
     ]
    }
   ],
   "source": [
    "vectordb.persist()"
   ]
  },
  {
   "cell_type": "code",
   "execution_count": 9,
   "id": "06b62883-30c4-4313-b822-59f0d8f31ab8",
   "metadata": {
    "execution": {
     "iopub.execute_input": "2024-05-28T21:36:35.275714Z",
     "iopub.status.busy": "2024-05-28T21:36:35.274715Z",
     "iopub.status.idle": "2024-05-28T21:36:35.282962Z",
     "shell.execute_reply": "2024-05-28T21:36:35.282962Z",
     "shell.execute_reply.started": "2024-05-28T21:36:35.275714Z"
    },
    "scrolled": true
   },
   "outputs": [
    {
     "data": {
      "application/vnd.jupyter.widget-view+json": {
       "model_id": "38a8a82bd88a47a8b4d374d8453323a0",
       "version_major": 2,
       "version_minor": 0
      },
      "text/plain": [
       "VBox(children=(HTML(value='<center> <img\\nsrc=https://huggingface.co/front/assets/huggingface_logo-noborder.sv…"
      ]
     },
     "metadata": {},
     "output_type": "display_data"
    }
   ],
   "source": [
    "notebook_login()"
   ]
  },
  {
   "cell_type": "code",
   "execution_count": 11,
   "id": "47087de7-5dd2-4082-aae9-1f679b7eda4f",
   "metadata": {
    "execution": {
     "iopub.execute_input": "2024-05-28T21:59:50.177804Z",
     "iopub.status.busy": "2024-05-28T21:59:50.176802Z",
     "iopub.status.idle": "2024-05-28T21:59:50.610429Z",
     "shell.execute_reply": "2024-05-28T21:59:50.610429Z",
     "shell.execute_reply.started": "2024-05-28T21:59:50.177804Z"
    },
    "scrolled": true
   },
   "outputs": [
    {
     "ename": "OSError",
     "evalue": "bartowski/Meta-Llama-3-8B-Instruct-GGUF-hf is not a local folder and is not a valid model identifier listed on 'https://huggingface.co/models'\nIf this is a private repository, make sure to pass a token having permission to this repo either by logging in with `huggingface-cli login` or by passing `token=<your_token>`",
     "output_type": "error",
     "traceback": [
      "\u001b[1;31m---------------------------------------------------------------------------\u001b[0m",
      "\u001b[1;31mHTTPError\u001b[0m                                 Traceback (most recent call last)",
      "File \u001b[1;32m~\\Desktop\\SpecSheet\\spec_env\\Lib\\site-packages\\huggingface_hub\\utils\\_errors.py:304\u001b[0m, in \u001b[0;36mhf_raise_for_status\u001b[1;34m(response, endpoint_name)\u001b[0m\n\u001b[0;32m    303\u001b[0m \u001b[38;5;28;01mtry\u001b[39;00m:\n\u001b[1;32m--> 304\u001b[0m     \u001b[43mresponse\u001b[49m\u001b[38;5;241;43m.\u001b[39;49m\u001b[43mraise_for_status\u001b[49m\u001b[43m(\u001b[49m\u001b[43m)\u001b[49m\n\u001b[0;32m    305\u001b[0m \u001b[38;5;28;01mexcept\u001b[39;00m HTTPError \u001b[38;5;28;01mas\u001b[39;00m e:\n",
      "File \u001b[1;32m~\\Desktop\\SpecSheet\\spec_env\\Lib\\site-packages\\requests\\models.py:1021\u001b[0m, in \u001b[0;36mResponse.raise_for_status\u001b[1;34m(self)\u001b[0m\n\u001b[0;32m   1020\u001b[0m \u001b[38;5;28;01mif\u001b[39;00m http_error_msg:\n\u001b[1;32m-> 1021\u001b[0m     \u001b[38;5;28;01mraise\u001b[39;00m HTTPError(http_error_msg, response\u001b[38;5;241m=\u001b[39m\u001b[38;5;28mself\u001b[39m)\n",
      "\u001b[1;31mHTTPError\u001b[0m: 404 Client Error: Not Found for url: https://huggingface.co/bartowski/Meta-Llama-3-8B-Instruct-GGUF-hf/resolve/main/tokenizer_config.json",
      "\nThe above exception was the direct cause of the following exception:\n",
      "\u001b[1;31mRepositoryNotFoundError\u001b[0m                   Traceback (most recent call last)",
      "File \u001b[1;32m~\\Desktop\\SpecSheet\\spec_env\\Lib\\site-packages\\transformers\\utils\\hub.py:398\u001b[0m, in \u001b[0;36mcached_file\u001b[1;34m(path_or_repo_id, filename, cache_dir, force_download, resume_download, proxies, token, revision, local_files_only, subfolder, repo_type, user_agent, _raise_exceptions_for_gated_repo, _raise_exceptions_for_missing_entries, _raise_exceptions_for_connection_errors, _commit_hash, **deprecated_kwargs)\u001b[0m\n\u001b[0;32m    396\u001b[0m \u001b[38;5;28;01mtry\u001b[39;00m:\n\u001b[0;32m    397\u001b[0m     \u001b[38;5;66;03m# Load from URL or cache if already cached\u001b[39;00m\n\u001b[1;32m--> 398\u001b[0m     resolved_file \u001b[38;5;241m=\u001b[39m \u001b[43mhf_hub_download\u001b[49m\u001b[43m(\u001b[49m\n\u001b[0;32m    399\u001b[0m \u001b[43m        \u001b[49m\u001b[43mpath_or_repo_id\u001b[49m\u001b[43m,\u001b[49m\n\u001b[0;32m    400\u001b[0m \u001b[43m        \u001b[49m\u001b[43mfilename\u001b[49m\u001b[43m,\u001b[49m\n\u001b[0;32m    401\u001b[0m \u001b[43m        \u001b[49m\u001b[43msubfolder\u001b[49m\u001b[38;5;241;43m=\u001b[39;49m\u001b[38;5;28;43;01mNone\u001b[39;49;00m\u001b[43m \u001b[49m\u001b[38;5;28;43;01mif\u001b[39;49;00m\u001b[43m \u001b[49m\u001b[38;5;28;43mlen\u001b[39;49m\u001b[43m(\u001b[49m\u001b[43msubfolder\u001b[49m\u001b[43m)\u001b[49m\u001b[43m \u001b[49m\u001b[38;5;241;43m==\u001b[39;49m\u001b[43m \u001b[49m\u001b[38;5;241;43m0\u001b[39;49m\u001b[43m \u001b[49m\u001b[38;5;28;43;01melse\u001b[39;49;00m\u001b[43m \u001b[49m\u001b[43msubfolder\u001b[49m\u001b[43m,\u001b[49m\n\u001b[0;32m    402\u001b[0m \u001b[43m        \u001b[49m\u001b[43mrepo_type\u001b[49m\u001b[38;5;241;43m=\u001b[39;49m\u001b[43mrepo_type\u001b[49m\u001b[43m,\u001b[49m\n\u001b[0;32m    403\u001b[0m \u001b[43m        \u001b[49m\u001b[43mrevision\u001b[49m\u001b[38;5;241;43m=\u001b[39;49m\u001b[43mrevision\u001b[49m\u001b[43m,\u001b[49m\n\u001b[0;32m    404\u001b[0m \u001b[43m        \u001b[49m\u001b[43mcache_dir\u001b[49m\u001b[38;5;241;43m=\u001b[39;49m\u001b[43mcache_dir\u001b[49m\u001b[43m,\u001b[49m\n\u001b[0;32m    405\u001b[0m \u001b[43m        \u001b[49m\u001b[43muser_agent\u001b[49m\u001b[38;5;241;43m=\u001b[39;49m\u001b[43muser_agent\u001b[49m\u001b[43m,\u001b[49m\n\u001b[0;32m    406\u001b[0m \u001b[43m        \u001b[49m\u001b[43mforce_download\u001b[49m\u001b[38;5;241;43m=\u001b[39;49m\u001b[43mforce_download\u001b[49m\u001b[43m,\u001b[49m\n\u001b[0;32m    407\u001b[0m \u001b[43m        \u001b[49m\u001b[43mproxies\u001b[49m\u001b[38;5;241;43m=\u001b[39;49m\u001b[43mproxies\u001b[49m\u001b[43m,\u001b[49m\n\u001b[0;32m    408\u001b[0m \u001b[43m        \u001b[49m\u001b[43mresume_download\u001b[49m\u001b[38;5;241;43m=\u001b[39;49m\u001b[43mresume_download\u001b[49m\u001b[43m,\u001b[49m\n\u001b[0;32m    409\u001b[0m \u001b[43m        \u001b[49m\u001b[43mtoken\u001b[49m\u001b[38;5;241;43m=\u001b[39;49m\u001b[43mtoken\u001b[49m\u001b[43m,\u001b[49m\n\u001b[0;32m    410\u001b[0m \u001b[43m        \u001b[49m\u001b[43mlocal_files_only\u001b[49m\u001b[38;5;241;43m=\u001b[39;49m\u001b[43mlocal_files_only\u001b[49m\u001b[43m,\u001b[49m\n\u001b[0;32m    411\u001b[0m \u001b[43m    \u001b[49m\u001b[43m)\u001b[49m\n\u001b[0;32m    412\u001b[0m \u001b[38;5;28;01mexcept\u001b[39;00m GatedRepoError \u001b[38;5;28;01mas\u001b[39;00m e:\n",
      "File \u001b[1;32m~\\Desktop\\SpecSheet\\spec_env\\Lib\\site-packages\\huggingface_hub\\utils\\_validators.py:114\u001b[0m, in \u001b[0;36mvalidate_hf_hub_args.<locals>._inner_fn\u001b[1;34m(*args, **kwargs)\u001b[0m\n\u001b[0;32m    112\u001b[0m     kwargs \u001b[38;5;241m=\u001b[39m smoothly_deprecate_use_auth_token(fn_name\u001b[38;5;241m=\u001b[39mfn\u001b[38;5;241m.\u001b[39m\u001b[38;5;18m__name__\u001b[39m, has_token\u001b[38;5;241m=\u001b[39mhas_token, kwargs\u001b[38;5;241m=\u001b[39mkwargs)\n\u001b[1;32m--> 114\u001b[0m \u001b[38;5;28;01mreturn\u001b[39;00m \u001b[43mfn\u001b[49m\u001b[43m(\u001b[49m\u001b[38;5;241;43m*\u001b[39;49m\u001b[43margs\u001b[49m\u001b[43m,\u001b[49m\u001b[43m \u001b[49m\u001b[38;5;241;43m*\u001b[39;49m\u001b[38;5;241;43m*\u001b[39;49m\u001b[43mkwargs\u001b[49m\u001b[43m)\u001b[49m\n",
      "File \u001b[1;32m~\\Desktop\\SpecSheet\\spec_env\\Lib\\site-packages\\huggingface_hub\\file_download.py:1221\u001b[0m, in \u001b[0;36mhf_hub_download\u001b[1;34m(repo_id, filename, subfolder, repo_type, revision, library_name, library_version, cache_dir, local_dir, user_agent, force_download, proxies, etag_timeout, token, local_files_only, headers, endpoint, legacy_cache_layout, resume_download, force_filename, local_dir_use_symlinks)\u001b[0m\n\u001b[0;32m   1220\u001b[0m \u001b[38;5;28;01melse\u001b[39;00m:\n\u001b[1;32m-> 1221\u001b[0m     \u001b[38;5;28;01mreturn\u001b[39;00m \u001b[43m_hf_hub_download_to_cache_dir\u001b[49m\u001b[43m(\u001b[49m\n\u001b[0;32m   1222\u001b[0m \u001b[43m        \u001b[49m\u001b[38;5;66;43;03m# Destination\u001b[39;49;00m\n\u001b[0;32m   1223\u001b[0m \u001b[43m        \u001b[49m\u001b[43mcache_dir\u001b[49m\u001b[38;5;241;43m=\u001b[39;49m\u001b[43mcache_dir\u001b[49m\u001b[43m,\u001b[49m\n\u001b[0;32m   1224\u001b[0m \u001b[43m        \u001b[49m\u001b[38;5;66;43;03m# File info\u001b[39;49;00m\n\u001b[0;32m   1225\u001b[0m \u001b[43m        \u001b[49m\u001b[43mrepo_id\u001b[49m\u001b[38;5;241;43m=\u001b[39;49m\u001b[43mrepo_id\u001b[49m\u001b[43m,\u001b[49m\n\u001b[0;32m   1226\u001b[0m \u001b[43m        \u001b[49m\u001b[43mfilename\u001b[49m\u001b[38;5;241;43m=\u001b[39;49m\u001b[43mfilename\u001b[49m\u001b[43m,\u001b[49m\n\u001b[0;32m   1227\u001b[0m \u001b[43m        \u001b[49m\u001b[43mrepo_type\u001b[49m\u001b[38;5;241;43m=\u001b[39;49m\u001b[43mrepo_type\u001b[49m\u001b[43m,\u001b[49m\n\u001b[0;32m   1228\u001b[0m \u001b[43m        \u001b[49m\u001b[43mrevision\u001b[49m\u001b[38;5;241;43m=\u001b[39;49m\u001b[43mrevision\u001b[49m\u001b[43m,\u001b[49m\n\u001b[0;32m   1229\u001b[0m \u001b[43m        \u001b[49m\u001b[38;5;66;43;03m# HTTP info\u001b[39;49;00m\n\u001b[0;32m   1230\u001b[0m \u001b[43m        \u001b[49m\u001b[43mheaders\u001b[49m\u001b[38;5;241;43m=\u001b[39;49m\u001b[43mheaders\u001b[49m\u001b[43m,\u001b[49m\n\u001b[0;32m   1231\u001b[0m \u001b[43m        \u001b[49m\u001b[43mproxies\u001b[49m\u001b[38;5;241;43m=\u001b[39;49m\u001b[43mproxies\u001b[49m\u001b[43m,\u001b[49m\n\u001b[0;32m   1232\u001b[0m \u001b[43m        \u001b[49m\u001b[43metag_timeout\u001b[49m\u001b[38;5;241;43m=\u001b[39;49m\u001b[43metag_timeout\u001b[49m\u001b[43m,\u001b[49m\n\u001b[0;32m   1233\u001b[0m \u001b[43m        \u001b[49m\u001b[43mendpoint\u001b[49m\u001b[38;5;241;43m=\u001b[39;49m\u001b[43mendpoint\u001b[49m\u001b[43m,\u001b[49m\n\u001b[0;32m   1234\u001b[0m \u001b[43m        \u001b[49m\u001b[38;5;66;43;03m# Additional options\u001b[39;49;00m\n\u001b[0;32m   1235\u001b[0m \u001b[43m        \u001b[49m\u001b[43mlocal_files_only\u001b[49m\u001b[38;5;241;43m=\u001b[39;49m\u001b[43mlocal_files_only\u001b[49m\u001b[43m,\u001b[49m\n\u001b[0;32m   1236\u001b[0m \u001b[43m        \u001b[49m\u001b[43mforce_download\u001b[49m\u001b[38;5;241;43m=\u001b[39;49m\u001b[43mforce_download\u001b[49m\u001b[43m,\u001b[49m\n\u001b[0;32m   1237\u001b[0m \u001b[43m    \u001b[49m\u001b[43m)\u001b[49m\n",
      "File \u001b[1;32m~\\Desktop\\SpecSheet\\spec_env\\Lib\\site-packages\\huggingface_hub\\file_download.py:1325\u001b[0m, in \u001b[0;36m_hf_hub_download_to_cache_dir\u001b[1;34m(cache_dir, repo_id, filename, repo_type, revision, headers, proxies, etag_timeout, endpoint, local_files_only, force_download)\u001b[0m\n\u001b[0;32m   1324\u001b[0m     \u001b[38;5;66;03m# Otherwise, raise appropriate error\u001b[39;00m\n\u001b[1;32m-> 1325\u001b[0m     \u001b[43m_raise_on_head_call_error\u001b[49m\u001b[43m(\u001b[49m\u001b[43mhead_call_error\u001b[49m\u001b[43m,\u001b[49m\u001b[43m \u001b[49m\u001b[43mforce_download\u001b[49m\u001b[43m,\u001b[49m\u001b[43m \u001b[49m\u001b[43mlocal_files_only\u001b[49m\u001b[43m)\u001b[49m\n\u001b[0;32m   1327\u001b[0m \u001b[38;5;66;03m# From now on, etag, commit_hash, url and size are not None.\u001b[39;00m\n",
      "File \u001b[1;32m~\\Desktop\\SpecSheet\\spec_env\\Lib\\site-packages\\huggingface_hub\\file_download.py:1823\u001b[0m, in \u001b[0;36m_raise_on_head_call_error\u001b[1;34m(head_call_error, force_download, local_files_only)\u001b[0m\n\u001b[0;32m   1821\u001b[0m \u001b[38;5;28;01melif\u001b[39;00m \u001b[38;5;28misinstance\u001b[39m(head_call_error, RepositoryNotFoundError) \u001b[38;5;129;01mor\u001b[39;00m \u001b[38;5;28misinstance\u001b[39m(head_call_error, GatedRepoError):\n\u001b[0;32m   1822\u001b[0m     \u001b[38;5;66;03m# Repo not found or gated => let's raise the actual error\u001b[39;00m\n\u001b[1;32m-> 1823\u001b[0m     \u001b[38;5;28;01mraise\u001b[39;00m head_call_error\n\u001b[0;32m   1824\u001b[0m \u001b[38;5;28;01melse\u001b[39;00m:\n\u001b[0;32m   1825\u001b[0m     \u001b[38;5;66;03m# Otherwise: most likely a connection issue or Hub downtime => let's warn the user\u001b[39;00m\n",
      "File \u001b[1;32m~\\Desktop\\SpecSheet\\spec_env\\Lib\\site-packages\\huggingface_hub\\file_download.py:1722\u001b[0m, in \u001b[0;36m_get_metadata_or_catch_error\u001b[1;34m(repo_id, filename, repo_type, revision, endpoint, proxies, etag_timeout, headers, local_files_only, relative_filename, storage_folder)\u001b[0m\n\u001b[0;32m   1721\u001b[0m \u001b[38;5;28;01mtry\u001b[39;00m:\n\u001b[1;32m-> 1722\u001b[0m     metadata \u001b[38;5;241m=\u001b[39m \u001b[43mget_hf_file_metadata\u001b[49m\u001b[43m(\u001b[49m\u001b[43murl\u001b[49m\u001b[38;5;241;43m=\u001b[39;49m\u001b[43murl\u001b[49m\u001b[43m,\u001b[49m\u001b[43m \u001b[49m\u001b[43mproxies\u001b[49m\u001b[38;5;241;43m=\u001b[39;49m\u001b[43mproxies\u001b[49m\u001b[43m,\u001b[49m\u001b[43m \u001b[49m\u001b[43mtimeout\u001b[49m\u001b[38;5;241;43m=\u001b[39;49m\u001b[43metag_timeout\u001b[49m\u001b[43m,\u001b[49m\u001b[43m \u001b[49m\u001b[43mheaders\u001b[49m\u001b[38;5;241;43m=\u001b[39;49m\u001b[43mheaders\u001b[49m\u001b[43m)\u001b[49m\n\u001b[0;32m   1723\u001b[0m \u001b[38;5;28;01mexcept\u001b[39;00m EntryNotFoundError \u001b[38;5;28;01mas\u001b[39;00m http_error:\n",
      "File \u001b[1;32m~\\Desktop\\SpecSheet\\spec_env\\Lib\\site-packages\\huggingface_hub\\utils\\_validators.py:114\u001b[0m, in \u001b[0;36mvalidate_hf_hub_args.<locals>._inner_fn\u001b[1;34m(*args, **kwargs)\u001b[0m\n\u001b[0;32m    112\u001b[0m     kwargs \u001b[38;5;241m=\u001b[39m smoothly_deprecate_use_auth_token(fn_name\u001b[38;5;241m=\u001b[39mfn\u001b[38;5;241m.\u001b[39m\u001b[38;5;18m__name__\u001b[39m, has_token\u001b[38;5;241m=\u001b[39mhas_token, kwargs\u001b[38;5;241m=\u001b[39mkwargs)\n\u001b[1;32m--> 114\u001b[0m \u001b[38;5;28;01mreturn\u001b[39;00m \u001b[43mfn\u001b[49m\u001b[43m(\u001b[49m\u001b[38;5;241;43m*\u001b[39;49m\u001b[43margs\u001b[49m\u001b[43m,\u001b[49m\u001b[43m \u001b[49m\u001b[38;5;241;43m*\u001b[39;49m\u001b[38;5;241;43m*\u001b[39;49m\u001b[43mkwargs\u001b[49m\u001b[43m)\u001b[49m\n",
      "File \u001b[1;32m~\\Desktop\\SpecSheet\\spec_env\\Lib\\site-packages\\huggingface_hub\\file_download.py:1645\u001b[0m, in \u001b[0;36mget_hf_file_metadata\u001b[1;34m(url, token, proxies, timeout, library_name, library_version, user_agent, headers)\u001b[0m\n\u001b[0;32m   1644\u001b[0m \u001b[38;5;66;03m# Retrieve metadata\u001b[39;00m\n\u001b[1;32m-> 1645\u001b[0m r \u001b[38;5;241m=\u001b[39m \u001b[43m_request_wrapper\u001b[49m\u001b[43m(\u001b[49m\n\u001b[0;32m   1646\u001b[0m \u001b[43m    \u001b[49m\u001b[43mmethod\u001b[49m\u001b[38;5;241;43m=\u001b[39;49m\u001b[38;5;124;43m\"\u001b[39;49m\u001b[38;5;124;43mHEAD\u001b[39;49m\u001b[38;5;124;43m\"\u001b[39;49m\u001b[43m,\u001b[49m\n\u001b[0;32m   1647\u001b[0m \u001b[43m    \u001b[49m\u001b[43murl\u001b[49m\u001b[38;5;241;43m=\u001b[39;49m\u001b[43murl\u001b[49m\u001b[43m,\u001b[49m\n\u001b[0;32m   1648\u001b[0m \u001b[43m    \u001b[49m\u001b[43mheaders\u001b[49m\u001b[38;5;241;43m=\u001b[39;49m\u001b[43mheaders\u001b[49m\u001b[43m,\u001b[49m\n\u001b[0;32m   1649\u001b[0m \u001b[43m    \u001b[49m\u001b[43mallow_redirects\u001b[49m\u001b[38;5;241;43m=\u001b[39;49m\u001b[38;5;28;43;01mFalse\u001b[39;49;00m\u001b[43m,\u001b[49m\n\u001b[0;32m   1650\u001b[0m \u001b[43m    \u001b[49m\u001b[43mfollow_relative_redirects\u001b[49m\u001b[38;5;241;43m=\u001b[39;49m\u001b[38;5;28;43;01mTrue\u001b[39;49;00m\u001b[43m,\u001b[49m\n\u001b[0;32m   1651\u001b[0m \u001b[43m    \u001b[49m\u001b[43mproxies\u001b[49m\u001b[38;5;241;43m=\u001b[39;49m\u001b[43mproxies\u001b[49m\u001b[43m,\u001b[49m\n\u001b[0;32m   1652\u001b[0m \u001b[43m    \u001b[49m\u001b[43mtimeout\u001b[49m\u001b[38;5;241;43m=\u001b[39;49m\u001b[43mtimeout\u001b[49m\u001b[43m,\u001b[49m\n\u001b[0;32m   1653\u001b[0m \u001b[43m\u001b[49m\u001b[43m)\u001b[49m\n\u001b[0;32m   1654\u001b[0m hf_raise_for_status(r)\n",
      "File \u001b[1;32m~\\Desktop\\SpecSheet\\spec_env\\Lib\\site-packages\\huggingface_hub\\file_download.py:372\u001b[0m, in \u001b[0;36m_request_wrapper\u001b[1;34m(method, url, follow_relative_redirects, **params)\u001b[0m\n\u001b[0;32m    371\u001b[0m \u001b[38;5;28;01mif\u001b[39;00m follow_relative_redirects:\n\u001b[1;32m--> 372\u001b[0m     response \u001b[38;5;241m=\u001b[39m \u001b[43m_request_wrapper\u001b[49m\u001b[43m(\u001b[49m\n\u001b[0;32m    373\u001b[0m \u001b[43m        \u001b[49m\u001b[43mmethod\u001b[49m\u001b[38;5;241;43m=\u001b[39;49m\u001b[43mmethod\u001b[49m\u001b[43m,\u001b[49m\n\u001b[0;32m    374\u001b[0m \u001b[43m        \u001b[49m\u001b[43murl\u001b[49m\u001b[38;5;241;43m=\u001b[39;49m\u001b[43murl\u001b[49m\u001b[43m,\u001b[49m\n\u001b[0;32m    375\u001b[0m \u001b[43m        \u001b[49m\u001b[43mfollow_relative_redirects\u001b[49m\u001b[38;5;241;43m=\u001b[39;49m\u001b[38;5;28;43;01mFalse\u001b[39;49;00m\u001b[43m,\u001b[49m\n\u001b[0;32m    376\u001b[0m \u001b[43m        \u001b[49m\u001b[38;5;241;43m*\u001b[39;49m\u001b[38;5;241;43m*\u001b[39;49m\u001b[43mparams\u001b[49m\u001b[43m,\u001b[49m\n\u001b[0;32m    377\u001b[0m \u001b[43m    \u001b[49m\u001b[43m)\u001b[49m\n\u001b[0;32m    379\u001b[0m     \u001b[38;5;66;03m# If redirection, we redirect only relative paths.\u001b[39;00m\n\u001b[0;32m    380\u001b[0m     \u001b[38;5;66;03m# This is useful in case of a renamed repository.\u001b[39;00m\n",
      "File \u001b[1;32m~\\Desktop\\SpecSheet\\spec_env\\Lib\\site-packages\\huggingface_hub\\file_download.py:396\u001b[0m, in \u001b[0;36m_request_wrapper\u001b[1;34m(method, url, follow_relative_redirects, **params)\u001b[0m\n\u001b[0;32m    395\u001b[0m response \u001b[38;5;241m=\u001b[39m get_session()\u001b[38;5;241m.\u001b[39mrequest(method\u001b[38;5;241m=\u001b[39mmethod, url\u001b[38;5;241m=\u001b[39murl, \u001b[38;5;241m*\u001b[39m\u001b[38;5;241m*\u001b[39mparams)\n\u001b[1;32m--> 396\u001b[0m \u001b[43mhf_raise_for_status\u001b[49m\u001b[43m(\u001b[49m\u001b[43mresponse\u001b[49m\u001b[43m)\u001b[49m\n\u001b[0;32m    397\u001b[0m \u001b[38;5;28;01mreturn\u001b[39;00m response\n",
      "File \u001b[1;32m~\\Desktop\\SpecSheet\\spec_env\\Lib\\site-packages\\huggingface_hub\\utils\\_errors.py:352\u001b[0m, in \u001b[0;36mhf_raise_for_status\u001b[1;34m(response, endpoint_name)\u001b[0m\n\u001b[0;32m    344\u001b[0m     message \u001b[38;5;241m=\u001b[39m (\n\u001b[0;32m    345\u001b[0m         \u001b[38;5;124mf\u001b[39m\u001b[38;5;124m\"\u001b[39m\u001b[38;5;132;01m{\u001b[39;00mresponse\u001b[38;5;241m.\u001b[39mstatus_code\u001b[38;5;132;01m}\u001b[39;00m\u001b[38;5;124m Client Error.\u001b[39m\u001b[38;5;124m\"\u001b[39m\n\u001b[0;32m    346\u001b[0m         \u001b[38;5;241m+\u001b[39m \u001b[38;5;124m\"\u001b[39m\u001b[38;5;130;01m\\n\u001b[39;00m\u001b[38;5;130;01m\\n\u001b[39;00m\u001b[38;5;124m\"\u001b[39m\n\u001b[1;32m   (...)\u001b[0m\n\u001b[0;32m    350\u001b[0m         \u001b[38;5;124m\"\u001b[39m\u001b[38;5;124m make sure you are authenticated.\u001b[39m\u001b[38;5;124m\"\u001b[39m\n\u001b[0;32m    351\u001b[0m     )\n\u001b[1;32m--> 352\u001b[0m     \u001b[38;5;28;01mraise\u001b[39;00m RepositoryNotFoundError(message, response) \u001b[38;5;28;01mfrom\u001b[39;00m \u001b[38;5;21;01me\u001b[39;00m\n\u001b[0;32m    354\u001b[0m \u001b[38;5;28;01melif\u001b[39;00m response\u001b[38;5;241m.\u001b[39mstatus_code \u001b[38;5;241m==\u001b[39m \u001b[38;5;241m400\u001b[39m:\n",
      "\u001b[1;31mRepositoryNotFoundError\u001b[0m: 404 Client Error. (Request ID: Root=1-665653d4-5150d3ef5148165d57e6fa9c;9c2f8fb2-1de4-4044-9977-51fe50ad7ac1)\n\nRepository Not Found for url: https://huggingface.co/bartowski/Meta-Llama-3-8B-Instruct-GGUF-hf/resolve/main/tokenizer_config.json.\nPlease make sure you specified the correct `repo_id` and `repo_type`.\nIf you are trying to access a private or gated repo, make sure you are authenticated.",
      "\nThe above exception was the direct cause of the following exception:\n",
      "\u001b[1;31mOSError\u001b[0m                                   Traceback (most recent call last)",
      "Cell \u001b[1;32mIn[11], line 3\u001b[0m\n\u001b[0;32m      1\u001b[0m model_id \u001b[38;5;241m=\u001b[39m \u001b[38;5;124m\"\u001b[39m\u001b[38;5;124mbartowski/Meta-Llama-3-8B-Instruct-GGUF-hf\u001b[39m\u001b[38;5;124m\"\u001b[39m\n\u001b[0;32m      2\u001b[0m filename \u001b[38;5;241m=\u001b[39m \u001b[38;5;124m\"\u001b[39m\u001b[38;5;124mMeta-Llama-3-8B-Instruct-Q8_0.gguf\u001b[39m\u001b[38;5;124m\"\u001b[39m\n\u001b[1;32m----> 3\u001b[0m tokenizer \u001b[38;5;241m=\u001b[39m \u001b[43mAutoTokenizer\u001b[49m\u001b[38;5;241;43m.\u001b[39;49m\u001b[43mfrom_pretrained\u001b[49m\u001b[43m(\u001b[49m\u001b[43mmodel_id\u001b[49m\u001b[43m,\u001b[49m\u001b[43m \u001b[49m\u001b[43mgguf_file\u001b[49m\u001b[38;5;241;43m=\u001b[39;49m\u001b[43mfilename\u001b[49m\u001b[43m,\u001b[49m\u001b[43mdevice_type\u001b[49m\u001b[38;5;241;43m=\u001b[39;49m\u001b[38;5;124;43m'\u001b[39;49m\u001b[38;5;124;43mcuda\u001b[39;49m\u001b[38;5;124;43m'\u001b[39;49m\u001b[43m)\u001b[49m\n\u001b[0;32m      4\u001b[0m model \u001b[38;5;241m=\u001b[39m AutoModelForCausalLM\u001b[38;5;241m.\u001b[39mfrom_pretrained(model_id,gguf_file\u001b[38;5;241m=\u001b[39mfilename, device_map\u001b[38;5;241m=\u001b[39m\u001b[38;5;124m'\u001b[39m\u001b[38;5;124mcuda\u001b[39m\u001b[38;5;124m'\u001b[39m)\n",
      "File \u001b[1;32m~\\Desktop\\SpecSheet\\spec_env\\Lib\\site-packages\\transformers\\models\\auto\\tokenization_auto.py:804\u001b[0m, in \u001b[0;36mAutoTokenizer.from_pretrained\u001b[1;34m(cls, pretrained_model_name_or_path, *inputs, **kwargs)\u001b[0m\n\u001b[0;32m    801\u001b[0m     \u001b[38;5;28;01mreturn\u001b[39;00m tokenizer_class\u001b[38;5;241m.\u001b[39mfrom_pretrained(pretrained_model_name_or_path, \u001b[38;5;241m*\u001b[39minputs, \u001b[38;5;241m*\u001b[39m\u001b[38;5;241m*\u001b[39mkwargs)\n\u001b[0;32m    803\u001b[0m \u001b[38;5;66;03m# Next, let's try to use the tokenizer_config file to get the tokenizer class.\u001b[39;00m\n\u001b[1;32m--> 804\u001b[0m tokenizer_config \u001b[38;5;241m=\u001b[39m \u001b[43mget_tokenizer_config\u001b[49m\u001b[43m(\u001b[49m\u001b[43mpretrained_model_name_or_path\u001b[49m\u001b[43m,\u001b[49m\u001b[43m \u001b[49m\u001b[38;5;241;43m*\u001b[39;49m\u001b[38;5;241;43m*\u001b[39;49m\u001b[43mkwargs\u001b[49m\u001b[43m)\u001b[49m\n\u001b[0;32m    805\u001b[0m \u001b[38;5;28;01mif\u001b[39;00m \u001b[38;5;124m\"\u001b[39m\u001b[38;5;124m_commit_hash\u001b[39m\u001b[38;5;124m\"\u001b[39m \u001b[38;5;129;01min\u001b[39;00m tokenizer_config:\n\u001b[0;32m    806\u001b[0m     kwargs[\u001b[38;5;124m\"\u001b[39m\u001b[38;5;124m_commit_hash\u001b[39m\u001b[38;5;124m\"\u001b[39m] \u001b[38;5;241m=\u001b[39m tokenizer_config[\u001b[38;5;124m\"\u001b[39m\u001b[38;5;124m_commit_hash\u001b[39m\u001b[38;5;124m\"\u001b[39m]\n",
      "File \u001b[1;32m~\\Desktop\\SpecSheet\\spec_env\\Lib\\site-packages\\transformers\\models\\auto\\tokenization_auto.py:637\u001b[0m, in \u001b[0;36mget_tokenizer_config\u001b[1;34m(pretrained_model_name_or_path, cache_dir, force_download, resume_download, proxies, token, revision, local_files_only, subfolder, **kwargs)\u001b[0m\n\u001b[0;32m    634\u001b[0m     token \u001b[38;5;241m=\u001b[39m use_auth_token\n\u001b[0;32m    636\u001b[0m commit_hash \u001b[38;5;241m=\u001b[39m kwargs\u001b[38;5;241m.\u001b[39mget(\u001b[38;5;124m\"\u001b[39m\u001b[38;5;124m_commit_hash\u001b[39m\u001b[38;5;124m\"\u001b[39m, \u001b[38;5;28;01mNone\u001b[39;00m)\n\u001b[1;32m--> 637\u001b[0m resolved_config_file \u001b[38;5;241m=\u001b[39m \u001b[43mcached_file\u001b[49m\u001b[43m(\u001b[49m\n\u001b[0;32m    638\u001b[0m \u001b[43m    \u001b[49m\u001b[43mpretrained_model_name_or_path\u001b[49m\u001b[43m,\u001b[49m\n\u001b[0;32m    639\u001b[0m \u001b[43m    \u001b[49m\u001b[43mTOKENIZER_CONFIG_FILE\u001b[49m\u001b[43m,\u001b[49m\n\u001b[0;32m    640\u001b[0m \u001b[43m    \u001b[49m\u001b[43mcache_dir\u001b[49m\u001b[38;5;241;43m=\u001b[39;49m\u001b[43mcache_dir\u001b[49m\u001b[43m,\u001b[49m\n\u001b[0;32m    641\u001b[0m \u001b[43m    \u001b[49m\u001b[43mforce_download\u001b[49m\u001b[38;5;241;43m=\u001b[39;49m\u001b[43mforce_download\u001b[49m\u001b[43m,\u001b[49m\n\u001b[0;32m    642\u001b[0m \u001b[43m    \u001b[49m\u001b[43mresume_download\u001b[49m\u001b[38;5;241;43m=\u001b[39;49m\u001b[43mresume_download\u001b[49m\u001b[43m,\u001b[49m\n\u001b[0;32m    643\u001b[0m \u001b[43m    \u001b[49m\u001b[43mproxies\u001b[49m\u001b[38;5;241;43m=\u001b[39;49m\u001b[43mproxies\u001b[49m\u001b[43m,\u001b[49m\n\u001b[0;32m    644\u001b[0m \u001b[43m    \u001b[49m\u001b[43mtoken\u001b[49m\u001b[38;5;241;43m=\u001b[39;49m\u001b[43mtoken\u001b[49m\u001b[43m,\u001b[49m\n\u001b[0;32m    645\u001b[0m \u001b[43m    \u001b[49m\u001b[43mrevision\u001b[49m\u001b[38;5;241;43m=\u001b[39;49m\u001b[43mrevision\u001b[49m\u001b[43m,\u001b[49m\n\u001b[0;32m    646\u001b[0m \u001b[43m    \u001b[49m\u001b[43mlocal_files_only\u001b[49m\u001b[38;5;241;43m=\u001b[39;49m\u001b[43mlocal_files_only\u001b[49m\u001b[43m,\u001b[49m\n\u001b[0;32m    647\u001b[0m \u001b[43m    \u001b[49m\u001b[43msubfolder\u001b[49m\u001b[38;5;241;43m=\u001b[39;49m\u001b[43msubfolder\u001b[49m\u001b[43m,\u001b[49m\n\u001b[0;32m    648\u001b[0m \u001b[43m    \u001b[49m\u001b[43m_raise_exceptions_for_gated_repo\u001b[49m\u001b[38;5;241;43m=\u001b[39;49m\u001b[38;5;28;43;01mFalse\u001b[39;49;00m\u001b[43m,\u001b[49m\n\u001b[0;32m    649\u001b[0m \u001b[43m    \u001b[49m\u001b[43m_raise_exceptions_for_missing_entries\u001b[49m\u001b[38;5;241;43m=\u001b[39;49m\u001b[38;5;28;43;01mFalse\u001b[39;49;00m\u001b[43m,\u001b[49m\n\u001b[0;32m    650\u001b[0m \u001b[43m    \u001b[49m\u001b[43m_raise_exceptions_for_connection_errors\u001b[49m\u001b[38;5;241;43m=\u001b[39;49m\u001b[38;5;28;43;01mFalse\u001b[39;49;00m\u001b[43m,\u001b[49m\n\u001b[0;32m    651\u001b[0m \u001b[43m    \u001b[49m\u001b[43m_commit_hash\u001b[49m\u001b[38;5;241;43m=\u001b[39;49m\u001b[43mcommit_hash\u001b[49m\u001b[43m,\u001b[49m\n\u001b[0;32m    652\u001b[0m \u001b[43m\u001b[49m\u001b[43m)\u001b[49m\n\u001b[0;32m    653\u001b[0m \u001b[38;5;28;01mif\u001b[39;00m resolved_config_file \u001b[38;5;129;01mis\u001b[39;00m \u001b[38;5;28;01mNone\u001b[39;00m:\n\u001b[0;32m    654\u001b[0m     logger\u001b[38;5;241m.\u001b[39minfo(\u001b[38;5;124m\"\u001b[39m\u001b[38;5;124mCould not locate the tokenizer configuration file, will try to use the model config instead.\u001b[39m\u001b[38;5;124m\"\u001b[39m)\n",
      "File \u001b[1;32m~\\Desktop\\SpecSheet\\spec_env\\Lib\\site-packages\\transformers\\utils\\hub.py:421\u001b[0m, in \u001b[0;36mcached_file\u001b[1;34m(path_or_repo_id, filename, cache_dir, force_download, resume_download, proxies, token, revision, local_files_only, subfolder, repo_type, user_agent, _raise_exceptions_for_gated_repo, _raise_exceptions_for_missing_entries, _raise_exceptions_for_connection_errors, _commit_hash, **deprecated_kwargs)\u001b[0m\n\u001b[0;32m    416\u001b[0m     \u001b[38;5;28;01mraise\u001b[39;00m \u001b[38;5;167;01mEnvironmentError\u001b[39;00m(\n\u001b[0;32m    417\u001b[0m         \u001b[38;5;124m\"\u001b[39m\u001b[38;5;124mYou are trying to access a gated repo.\u001b[39m\u001b[38;5;130;01m\\n\u001b[39;00m\u001b[38;5;124mMake sure to have access to it at \u001b[39m\u001b[38;5;124m\"\u001b[39m\n\u001b[0;32m    418\u001b[0m         \u001b[38;5;124mf\u001b[39m\u001b[38;5;124m\"\u001b[39m\u001b[38;5;124mhttps://huggingface.co/\u001b[39m\u001b[38;5;132;01m{\u001b[39;00mpath_or_repo_id\u001b[38;5;132;01m}\u001b[39;00m\u001b[38;5;124m.\u001b[39m\u001b[38;5;130;01m\\n\u001b[39;00m\u001b[38;5;132;01m{\u001b[39;00m\u001b[38;5;28mstr\u001b[39m(e)\u001b[38;5;132;01m}\u001b[39;00m\u001b[38;5;124m\"\u001b[39m\n\u001b[0;32m    419\u001b[0m     ) \u001b[38;5;28;01mfrom\u001b[39;00m \u001b[38;5;21;01me\u001b[39;00m\n\u001b[0;32m    420\u001b[0m \u001b[38;5;28;01mexcept\u001b[39;00m RepositoryNotFoundError \u001b[38;5;28;01mas\u001b[39;00m e:\n\u001b[1;32m--> 421\u001b[0m     \u001b[38;5;28;01mraise\u001b[39;00m \u001b[38;5;167;01mEnvironmentError\u001b[39;00m(\n\u001b[0;32m    422\u001b[0m         \u001b[38;5;124mf\u001b[39m\u001b[38;5;124m\"\u001b[39m\u001b[38;5;132;01m{\u001b[39;00mpath_or_repo_id\u001b[38;5;132;01m}\u001b[39;00m\u001b[38;5;124m is not a local folder and is not a valid model identifier \u001b[39m\u001b[38;5;124m\"\u001b[39m\n\u001b[0;32m    423\u001b[0m         \u001b[38;5;124m\"\u001b[39m\u001b[38;5;124mlisted on \u001b[39m\u001b[38;5;124m'\u001b[39m\u001b[38;5;124mhttps://huggingface.co/models\u001b[39m\u001b[38;5;124m'\u001b[39m\u001b[38;5;130;01m\\n\u001b[39;00m\u001b[38;5;124mIf this is a private repository, make sure to pass a token \u001b[39m\u001b[38;5;124m\"\u001b[39m\n\u001b[0;32m    424\u001b[0m         \u001b[38;5;124m\"\u001b[39m\u001b[38;5;124mhaving permission to this repo either by logging in with `huggingface-cli login` or by passing \u001b[39m\u001b[38;5;124m\"\u001b[39m\n\u001b[0;32m    425\u001b[0m         \u001b[38;5;124m\"\u001b[39m\u001b[38;5;124m`token=<your_token>`\u001b[39m\u001b[38;5;124m\"\u001b[39m\n\u001b[0;32m    426\u001b[0m     ) \u001b[38;5;28;01mfrom\u001b[39;00m \u001b[38;5;21;01me\u001b[39;00m\n\u001b[0;32m    427\u001b[0m \u001b[38;5;28;01mexcept\u001b[39;00m RevisionNotFoundError \u001b[38;5;28;01mas\u001b[39;00m e:\n\u001b[0;32m    428\u001b[0m     \u001b[38;5;28;01mraise\u001b[39;00m \u001b[38;5;167;01mEnvironmentError\u001b[39;00m(\n\u001b[0;32m    429\u001b[0m         \u001b[38;5;124mf\u001b[39m\u001b[38;5;124m\"\u001b[39m\u001b[38;5;132;01m{\u001b[39;00mrevision\u001b[38;5;132;01m}\u001b[39;00m\u001b[38;5;124m is not a valid git identifier (branch name, tag name or commit id) that exists \u001b[39m\u001b[38;5;124m\"\u001b[39m\n\u001b[0;32m    430\u001b[0m         \u001b[38;5;124m\"\u001b[39m\u001b[38;5;124mfor this model name. Check the model page at \u001b[39m\u001b[38;5;124m\"\u001b[39m\n\u001b[0;32m    431\u001b[0m         \u001b[38;5;124mf\u001b[39m\u001b[38;5;124m\"\u001b[39m\u001b[38;5;124m'\u001b[39m\u001b[38;5;124mhttps://huggingface.co/\u001b[39m\u001b[38;5;132;01m{\u001b[39;00mpath_or_repo_id\u001b[38;5;132;01m}\u001b[39;00m\u001b[38;5;124m'\u001b[39m\u001b[38;5;124m for available revisions.\u001b[39m\u001b[38;5;124m\"\u001b[39m\n\u001b[0;32m    432\u001b[0m     ) \u001b[38;5;28;01mfrom\u001b[39;00m \u001b[38;5;21;01me\u001b[39;00m\n",
      "\u001b[1;31mOSError\u001b[0m: bartowski/Meta-Llama-3-8B-Instruct-GGUF-hf is not a local folder and is not a valid model identifier listed on 'https://huggingface.co/models'\nIf this is a private repository, make sure to pass a token having permission to this repo either by logging in with `huggingface-cli login` or by passing `token=<your_token>`"
     ]
    }
   ],
   "source": [
    "model_id = \"bartowski/Meta-Llama-3-8B-Instruct-GGUF-hf\"\n",
    "filename = \"Meta-Llama-3-8B-Instruct-Q8_0.gguf\"\n",
    "tokenizer = AutoTokenizer.from_pretrained(model_id, gguf_file=filename,device_type='cuda')\n",
    "model = AutoModelForCausalLM.from_pretrained(model_id,gguf_file=filename, device_map='cuda')"
   ]
  },
  {
   "cell_type": "code",
   "execution_count": null,
   "id": "54499647-0f85-43aa-b0c0-e9568382dc5a",
   "metadata": {
    "execution": {
     "iopub.status.busy": "2024-05-26T18:02:37.075812Z",
     "iopub.status.idle": "2024-05-26T18:02:37.075812Z",
     "shell.execute_reply": "2024-05-26T18:02:37.075812Z",
     "shell.execute_reply.started": "2024-05-26T18:02:37.075812Z"
    }
   },
   "outputs": [],
   "source": [
    "pipe=pipeline(\"text-generation\",\n",
    "                model=model,\n",
    "                tokenizer=tokenizer,\n",
    "                torch_dtype=torch.bfloat16,\n",
    "                device_map='cuda',\n",
    "                max_new_tokens=512,\n",
    "                min_new_tokens=-1,\n",
    "                top_k=30)"
   ]
  },
  {
   "cell_type": "code",
   "execution_count": null,
   "id": "fe32b690-ce09-41bc-9a66-e8110f0a1935",
   "metadata": {
    "execution": {
     "iopub.status.busy": "2024-05-26T18:02:37.075812Z",
     "iopub.status.idle": "2024-05-26T18:02:37.076812Z",
     "shell.execute_reply": "2024-05-26T18:02:37.076812Z",
     "shell.execute_reply.started": "2024-05-26T18:02:37.076812Z"
    }
   },
   "outputs": [],
   "source": [
    "llm=HuggingFacePipeline(pipeline=pipe, model_kwargs={'temperature':0})"
   ]
  },
  {
   "cell_type": "code",
   "execution_count": null,
   "id": "1999ec56-ae7e-4f48-8d0b-2602069cf247",
   "metadata": {
    "execution": {
     "iopub.status.busy": "2024-05-24T00:10:17.723349Z",
     "iopub.status.idle": "2024-05-24T00:10:17.723349Z",
     "shell.execute_reply": "2024-05-24T00:10:17.723349Z",
     "shell.execute_reply.started": "2024-05-24T00:10:17.723349Z"
    }
   },
   "outputs": [],
   "source": [
    "llm"
   ]
  },
  {
   "cell_type": "code",
   "execution_count": null,
   "id": "606221b9-ac2a-4a41-908f-55e9ac0e098b",
   "metadata": {
    "execution": {
     "iopub.status.busy": "2024-05-24T00:10:17.724349Z",
     "iopub.status.idle": "2024-05-24T00:10:17.724349Z",
     "shell.execute_reply": "2024-05-24T00:10:17.724349Z",
     "shell.execute_reply.started": "2024-05-24T00:10:17.724349Z"
    }
   },
   "outputs": [],
   "source": [
    "memory = ConversationBufferMemory(memory_key='chat_history', return_messages=True)"
   ]
  },
  {
   "cell_type": "code",
   "execution_count": null,
   "id": "d8e64c66-086b-499b-9352-60589d7b7d06",
   "metadata": {
    "execution": {
     "iopub.status.busy": "2024-05-24T00:10:17.725349Z",
     "iopub.status.idle": "2024-05-24T00:10:17.725349Z",
     "shell.execute_reply": "2024-05-24T00:10:17.725349Z",
     "shell.execute_reply.started": "2024-05-24T00:10:17.725349Z"
    }
   },
   "outputs": [],
   "source": [
    "pdf_qa=ConversationalRetrievalChain.from_llm(llm=llm, retriever=vectordb.as_retriever(search_kwargs={'k':6}),verbose=False,memory=memory)"
   ]
  },
  {
   "cell_type": "code",
   "execution_count": null,
   "id": "957ff154-0b32-4f1d-9cf7-304f0589687c",
   "metadata": {
    "execution": {
     "iopub.status.busy": "2024-05-24T00:10:17.726351Z",
     "iopub.status.idle": "2024-05-24T00:10:17.726351Z",
     "shell.execute_reply": "2024-05-24T00:10:17.726351Z",
     "shell.execute_reply.started": "2024-05-24T00:10:17.726351Z"
    },
    "scrolled": true
   },
   "outputs": [],
   "source": [
    "result=pdf_qa({\"question\":\"What iPhone has the A15 Bionic chip?\"})"
   ]
  },
  {
   "cell_type": "code",
   "execution_count": null,
   "id": "d363dad1-9b9d-4c60-a388-846a082de48b",
   "metadata": {
    "execution": {
     "iopub.status.busy": "2024-05-24T00:10:17.728350Z",
     "iopub.status.idle": "2024-05-24T00:10:17.729351Z",
     "shell.execute_reply": "2024-05-24T00:10:17.729351Z",
     "shell.execute_reply.started": "2024-05-24T00:10:17.729351Z"
    }
   },
   "outputs": [],
   "source": [
    "print(result)"
   ]
  },
  {
   "cell_type": "code",
   "execution_count": null,
   "id": "89d06e4d-5034-4fd3-9051-fdd32f8492de",
   "metadata": {
    "execution": {
     "iopub.status.busy": "2024-05-24T00:10:17.729351Z",
     "iopub.status.idle": "2024-05-24T00:10:17.730350Z",
     "shell.execute_reply": "2024-05-24T00:10:17.730350Z",
     "shell.execute_reply.started": "2024-05-24T00:10:17.730350Z"
    }
   },
   "outputs": [],
   "source": [
    "print(result['answer'])"
   ]
  },
  {
   "cell_type": "code",
   "execution_count": null,
   "id": "7b0e9b1d-630b-4ee6-a21e-f3a7493aa59a",
   "metadata": {
    "execution": {
     "iopub.status.busy": "2024-05-24T00:10:17.731350Z",
     "iopub.status.idle": "2024-05-24T00:10:17.731350Z",
     "shell.execute_reply": "2024-05-24T00:10:17.731350Z",
     "shell.execute_reply.started": "2024-05-24T00:10:17.731350Z"
    }
   },
   "outputs": [],
   "source": [
    "while True:\n",
    "    query=input(f\"Prompt:\")\n",
    "    if query == \"exit\" or query == \"quit\" or query == \"q\" or query == \"f\":\n",
    "        print('Exiting')\n",
    "        sys.exit()\n",
    "    if query == '':\n",
    "        continue\n",
    "    result = pdf_qa({\"question\": query})\n",
    "    print(f\"Answer: \" + result[\"answer\"])\n"
   ]
  },
  {
   "cell_type": "code",
   "execution_count": null,
   "id": "f6540251-071e-410b-913f-11bf9351aebe",
   "metadata": {},
   "outputs": [],
   "source": []
  }
 ],
 "metadata": {
  "kernelspec": {
   "display_name": "Python 3 (ipykernel)",
   "language": "python",
   "name": "python3"
  },
  "language_info": {
   "codemirror_mode": {
    "name": "ipython",
    "version": 3
   },
   "file_extension": ".py",
   "mimetype": "text/x-python",
   "name": "python",
   "nbconvert_exporter": "python",
   "pygments_lexer": "ipython3",
   "version": "3.12.3"
  }
 },
 "nbformat": 4,
 "nbformat_minor": 5
}
